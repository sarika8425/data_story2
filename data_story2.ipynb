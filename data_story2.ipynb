{
 "cells": [
  {
   "cell_type": "code",
   "execution_count": 1,
   "metadata": {
    "collapsed": true
   },
   "outputs": [],
   "source": [
    "%matplotlib inline\n",
    "import matplotlib.pyplot as plt\n",
    "import pandas as pd\n",
    "import numpy as np\n",
    "from scipy import stats\n",
    "import warnings\n",
    "warnings.filterwarnings('ignore')"
   ]
  },
  {
   "cell_type": "code",
   "execution_count": 2,
   "metadata": {
    "collapsed": false
   },
   "outputs": [],
   "source": [
    "drunkdrive = pd.DataFrame.from_csv('drunkdrive.csv', index_col=None)\n",
    "drinkaw = pd.DataFrame.from_csv('drinkaw.csv', index_col=None)\n",
    "drinkaw=drinkaw[drinkaw.Year==2012]\n",
    "drinkaw=drinkaw.drop('Year',1)"
   ]
  },
  {
   "cell_type": "code",
   "execution_count": 3,
   "metadata": {
    "collapsed": false
   },
   "outputs": [
    {
     "data": {
      "text/html": [
       "<div>\n",
       "<table border=\"1\" class=\"dataframe\">\n",
       "  <thead>\n",
       "    <tr style=\"text-align: right;\">\n",
       "      <th></th>\n",
       "      <th>Country</th>\n",
       "      <th>Female</th>\n",
       "      <th>Male</th>\n",
       "      <th>Aware</th>\n",
       "    </tr>\n",
       "  </thead>\n",
       "  <tbody>\n",
       "    <tr>\n",
       "      <th>0</th>\n",
       "      <td>Afghanistan</td>\n",
       "      <td>0.2</td>\n",
       "      <td>1.4</td>\n",
       "      <td>No</td>\n",
       "    </tr>\n",
       "    <tr>\n",
       "      <th>1</th>\n",
       "      <td>Albania</td>\n",
       "      <td>3.3</td>\n",
       "      <td>10.5</td>\n",
       "      <td>Yes</td>\n",
       "    </tr>\n",
       "    <tr>\n",
       "      <th>2</th>\n",
       "      <td>Algeria</td>\n",
       "      <td>0.1</td>\n",
       "      <td>0.4</td>\n",
       "      <td>No</td>\n",
       "    </tr>\n",
       "    <tr>\n",
       "      <th>3</th>\n",
       "      <td>Andorra</td>\n",
       "      <td>NaN</td>\n",
       "      <td>NaN</td>\n",
       "      <td>Yes</td>\n",
       "    </tr>\n",
       "    <tr>\n",
       "      <th>4</th>\n",
       "      <td>Angola</td>\n",
       "      <td>5.3</td>\n",
       "      <td>21.3</td>\n",
       "      <td>Yes</td>\n",
       "    </tr>\n",
       "  </tbody>\n",
       "</table>\n",
       "</div>"
      ],
      "text/plain": [
       "       Country  Female  Male Aware\n",
       "0  Afghanistan     0.2   1.4    No\n",
       "1      Albania     3.3  10.5   Yes\n",
       "2      Algeria     0.1   0.4    No\n",
       "3      Andorra     NaN   NaN   Yes\n",
       "4       Angola     5.3  21.3   Yes"
      ]
     },
     "execution_count": 3,
     "metadata": {},
     "output_type": "execute_result"
    }
   ],
   "source": [
    "df=pd.merge(drunkdrive,drinkaw, how='left')\n",
    "df.head()"
   ]
  },
  {
   "cell_type": "code",
   "execution_count": 10,
   "metadata": {
    "collapsed": false
   },
   "outputs": [],
   "source": [
    "\n",
    "df1=df[((df.Female.notnull())|(df.Male.notnull())|(df.Aware.notnull()))]"
   ]
  },
  {
   "cell_type": "code",
   "execution_count": 39,
   "metadata": {
    "collapsed": false
   },
   "outputs": [],
   "source": [
    "df1['All']=df1.Female+df1.Male"
   ]
  },
  {
   "cell_type": "code",
   "execution_count": 40,
   "metadata": {
    "collapsed": false
   },
   "outputs": [],
   "source": [
    "df1=df1[df1.All.notnull()]\n",
    "df1=df1[df1.Aware.notnull()]"
   ]
  },
  {
   "cell_type": "code",
   "execution_count": 41,
   "metadata": {
    "collapsed": true
   },
   "outputs": [],
   "source": [
    "df1=df1[df1.All<=100]"
   ]
  },
  {
   "cell_type": "code",
   "execution_count": 16,
   "metadata": {
    "collapsed": false
   },
   "outputs": [
    {
     "data": {
      "text/html": [
       "<div>\n",
       "<table border=\"1\" class=\"dataframe\">\n",
       "  <thead>\n",
       "    <tr style=\"text-align: right;\">\n",
       "      <th></th>\n",
       "      <th>Country</th>\n",
       "      <th>Female</th>\n",
       "      <th>Male</th>\n",
       "      <th>Aware</th>\n",
       "      <th>All</th>\n",
       "    </tr>\n",
       "  </thead>\n",
       "  <tbody>\n",
       "    <tr>\n",
       "      <th>0</th>\n",
       "      <td>Afghanistan</td>\n",
       "      <td>0.2</td>\n",
       "      <td>1.4</td>\n",
       "      <td>No</td>\n",
       "      <td>1.6</td>\n",
       "    </tr>\n",
       "    <tr>\n",
       "      <th>1</th>\n",
       "      <td>Albania</td>\n",
       "      <td>3.3</td>\n",
       "      <td>10.5</td>\n",
       "      <td>Yes</td>\n",
       "      <td>13.8</td>\n",
       "    </tr>\n",
       "    <tr>\n",
       "      <th>2</th>\n",
       "      <td>Algeria</td>\n",
       "      <td>0.1</td>\n",
       "      <td>0.4</td>\n",
       "      <td>No</td>\n",
       "      <td>0.5</td>\n",
       "    </tr>\n",
       "    <tr>\n",
       "      <th>4</th>\n",
       "      <td>Angola</td>\n",
       "      <td>5.3</td>\n",
       "      <td>21.3</td>\n",
       "      <td>Yes</td>\n",
       "      <td>26.6</td>\n",
       "    </tr>\n",
       "    <tr>\n",
       "      <th>6</th>\n",
       "      <td>Argentina</td>\n",
       "      <td>4.3</td>\n",
       "      <td>12.5</td>\n",
       "      <td>Yes</td>\n",
       "      <td>16.8</td>\n",
       "    </tr>\n",
       "  </tbody>\n",
       "</table>\n",
       "</div>"
      ],
      "text/plain": [
       "       Country  Female  Male Aware   All\n",
       "0  Afghanistan     0.2   1.4    No   1.6\n",
       "1      Albania     3.3  10.5   Yes  13.8\n",
       "2      Algeria     0.1   0.4    No   0.5\n",
       "4       Angola     5.3  21.3   Yes  26.6\n",
       "6    Argentina     4.3  12.5   Yes  16.8"
      ]
     },
     "execution_count": 16,
     "metadata": {},
     "output_type": "execute_result"
    }
   ],
   "source": [
    "df1.head()"
   ]
  },
  {
   "cell_type": "markdown",
   "metadata": {
    "collapsed": false
   },
   "source": [
    "Hypotheis testing for difference in mean % of road accidents in countries with and without drunk driving awareness. "
   ]
  },
  {
   "cell_type": "code",
   "execution_count": 17,
   "metadata": {
    "collapsed": false
   },
   "outputs": [],
   "source": [
    "dfy=df1[df1.Aware=='Yes']\n",
    "dfya=dfy['All']\n",
    "dfn=df1[df1.Aware=='No']\n",
    "dfna=dfn['All']"
   ]
  },
  {
   "cell_type": "code",
   "execution_count": null,
   "metadata": {
    "collapsed": false
   },
   "outputs": [],
   "source": []
  },
  {
   "cell_type": "code",
   "execution_count": 18,
   "metadata": {
    "collapsed": false
   },
   "outputs": [
    {
     "data": {
      "text/plain": [
       "(2.5670956007970016, 0.013100871296564629)"
      ]
     },
     "execution_count": 18,
     "metadata": {},
     "output_type": "execute_result"
    }
   ],
   "source": [
    "stats.ttest_ind(dfya,dfna, equal_var = False)"
   ]
  },
  {
   "cell_type": "code",
   "execution_count": null,
   "metadata": {
    "collapsed": false
   },
   "outputs": [],
   "source": []
  },
  {
   "cell_type": "code",
   "execution_count": 19,
   "metadata": {
    "collapsed": false
   },
   "outputs": [],
   "source": [
    "dfym=np.mean(dfy[\"All\"])\n",
    "s1=np.std(dfy[\"All\"])\n",
    "dfnm=np.mean(dfn[\"All\"])\n",
    "s2=np.std(dfn[\"All\"])\n",
    "se = np.sqrt(((s1**2)/(len(dfy))) + ((s2**2)/(len(dfn))) )"
   ]
  },
  {
   "cell_type": "code",
   "execution_count": 20,
   "metadata": {
    "collapsed": false
   },
   "outputs": [
    {
     "name": "stdout",
     "output_type": "stream",
     "text": [
      "2.48803915404 17.7146247804\n"
     ]
    }
   ],
   "source": [
    "cir=((dfym-dfnm)+((1.96)*se))\n",
    "cil=((dfym-dfnm)-((1.96)*se))\n",
    "print cil, cir"
   ]
  },
  {
   "cell_type": "code",
   "execution_count": null,
   "metadata": {
    "collapsed": false
   },
   "outputs": [],
   "source": []
  },
  {
   "cell_type": "markdown",
   "metadata": {},
   "source": [
    "**There is a significant difference between alcohol attributable road accident deaths(%) on an average among countries with awareness on drunk driving & those without.\n",
    "It turns out road accidents are 2.4%-17% more where countries have awareness on drunken driving.**"
   ]
  },
  {
   "cell_type": "markdown",
   "metadata": {},
   "source": [
    "Hypotheis testing for difference in mean % of road accidents among females in countries with and without drunk driving awareness. "
   ]
  },
  {
   "cell_type": "code",
   "execution_count": 22,
   "metadata": {
    "collapsed": false
   },
   "outputs": [],
   "source": [
    "df1=df[df.Female.notnull()]"
   ]
  },
  {
   "cell_type": "code",
   "execution_count": 23,
   "metadata": {
    "collapsed": true
   },
   "outputs": [],
   "source": [
    "dfy=df1[df1.Aware=='Yes']\n",
    "dfya=dfy['Female']\n",
    "dfn=df1[df1.Aware=='No']\n",
    "dfna=dfn['Female']"
   ]
  },
  {
   "cell_type": "code",
   "execution_count": 24,
   "metadata": {
    "collapsed": false
   },
   "outputs": [
    {
     "data": {
      "text/plain": [
       "(1.471400227292333, 0.14692149769056054)"
      ]
     },
     "execution_count": 24,
     "metadata": {},
     "output_type": "execute_result"
    }
   ],
   "source": [
    "stats.ttest_ind(dfya,dfna, equal_var = False)"
   ]
  },
  {
   "cell_type": "code",
   "execution_count": 27,
   "metadata": {
    "collapsed": false
   },
   "outputs": [],
   "source": [
    "dfym=np.mean(dfy[\"Female\"])\n",
    "s1=np.std(dfy[\"Female\"])\n",
    "dfnm=np.mean(dfn[\"Female\"])\n",
    "s2=np.std(dfn[\"Female\"])\n",
    "se = np.sqrt(((s1**2)/(len(dfy))) + ((s2**2)/(len(dfn))) )"
   ]
  },
  {
   "cell_type": "code",
   "execution_count": 28,
   "metadata": {
    "collapsed": false
   },
   "outputs": [
    {
     "name": "stdout",
     "output_type": "stream",
     "text": [
      "-0.798194839277 5.86425174985\n"
     ]
    }
   ],
   "source": []
  },
  {
   "cell_type": "markdown",
   "metadata": {},
   "source": [
    "There is no significant difference between alcohol attributable road accident deaths(%) among females on an average among countries with awareness on drunk driving & those without."
   ]
  },
  {
   "cell_type": "markdown",
   "metadata": {},
   "source": [
    "Hypotheis testing for difference in mean % of road accidents among females in countries with and without drunk driving awareness. "
   ]
  },
  {
   "cell_type": "code",
   "execution_count": 29,
   "metadata": {
    "collapsed": true
   },
   "outputs": [],
   "source": [
    "df1=df[df.Male.notnull()]"
   ]
  },
  {
   "cell_type": "code",
   "execution_count": 30,
   "metadata": {
    "collapsed": true
   },
   "outputs": [],
   "source": [
    "dfy=df1[df1.Aware=='Yes']\n",
    "dfya=dfy['Male']\n",
    "dfn=df1[df1.Aware=='No']\n",
    "dfna=dfn['Male']"
   ]
  },
  {
   "cell_type": "code",
   "execution_count": 31,
   "metadata": {
    "collapsed": false
   },
   "outputs": [
    {
     "data": {
      "text/plain": [
       "(3.3253104392437391, 0.0015325199076904731)"
      ]
     },
     "execution_count": 31,
     "metadata": {},
     "output_type": "execute_result"
    }
   ],
   "source": [
    "stats.ttest_ind(dfya,dfna, equal_var = False)"
   ]
  },
  {
   "cell_type": "code",
   "execution_count": 34,
   "metadata": {
    "collapsed": true
   },
   "outputs": [],
   "source": [
    "dfym=np.mean(dfy[\"Male\"])\n",
    "s1=np.std(dfy[\"Male\"])\n",
    "dfnm=np.mean(dfn[\"Male\"])\n",
    "s2=np.std(dfn[\"Male\"])\n",
    "se = np.sqrt(((s1**2)/(len(dfy))) + ((s2**2)/(len(dfn))) )"
   ]
  },
  {
   "cell_type": "code",
   "execution_count": 35,
   "metadata": {
    "collapsed": false
   },
   "outputs": [
    {
     "name": "stdout",
     "output_type": "stream",
     "text": [
      "3.42949257365 12.9836171824\n"
     ]
    }
   ],
   "source": [
    "cir=((dfym-dfnm)+((1.96)*se))\n",
    "cil=((dfym-dfnm)-((1.96)*se))\n",
    "print cil, cir"
   ]
  },
  {
   "cell_type": "markdown",
   "metadata": {},
   "source": [
    "There is significant difference between alcohol attributable road accident deaths(%) among males on an average among countries with awareness on drunk driving & those without.It turns out road accidents are 3.4%-13% more where countries have awareness on drunken driving."
   ]
  },
  {
   "cell_type": "code",
   "execution_count": null,
   "metadata": {
    "collapsed": true
   },
   "outputs": [],
   "source": []
  },
  {
   "cell_type": "markdown",
   "metadata": {},
   "source": [
    "Testing hypothesis to check if there is significant difference in mean alcohol related road accidents between males and females"
   ]
  },
  {
   "cell_type": "code",
   "execution_count": 42,
   "metadata": {
    "collapsed": true
   },
   "outputs": [],
   "source": [
    "dfm=df1['Male']\n",
    "dff=df1['Female']"
   ]
  },
  {
   "cell_type": "code",
   "execution_count": 44,
   "metadata": {
    "collapsed": false
   },
   "outputs": [
    {
     "data": {
      "text/plain": [
       "(7.9658115478335354, 5.376395765906975e-14)"
      ]
     },
     "execution_count": 44,
     "metadata": {},
     "output_type": "execute_result"
    }
   ],
   "source": [
    "stats.ttest_ind(dfm,dff, equal_var = False)"
   ]
  },
  {
   "cell_type": "code",
   "execution_count": 45,
   "metadata": {
    "collapsed": true
   },
   "outputs": [],
   "source": [
    "dfmm=np.mean(df1[\"Male\"])\n",
    "s1=np.std(df1[\"Male\"])\n",
    "dffm=np.mean(df1[\"Female\"])\n",
    "s2=np.std(df1[\"Female\"])\n",
    "se = np.sqrt(((s1**2)/(len(dfy))) + ((s2**2)/(len(dfn))) )"
   ]
  },
  {
   "cell_type": "code",
   "execution_count": 46,
   "metadata": {
    "collapsed": false
   },
   "outputs": [
    {
     "name": "stdout",
     "output_type": "stream",
     "text": [
      "6.76656262225 14.6594114037\n"
     ]
    }
   ],
   "source": [
    "cir=((dfmm-dffm)+((1.96)*se))\n",
    "cil=((dfmm-dffm)-((1.96)*se))\n",
    "print cil, cir"
   ]
  },
  {
   "cell_type": "markdown",
   "metadata": {},
   "source": [
    "**There is a significant difference between alcohol attributable road accident deaths(%) on an average between males and females**"
   ]
  },
  {
   "cell_type": "markdown",
   "metadata": {},
   "source": [
    "Hypotheis testing for difference in mean % of road accidents in countries(without ban on alcohol) with and without drunk driving awareness. "
   ]
  },
  {
   "cell_type": "code",
   "execution_count": 132,
   "metadata": {
    "collapsed": false
   },
   "outputs": [],
   "source": [
    "alcban = pd.DataFrame.from_csv('alcban.csv', index_col=None)\n",
    "\n",
    "\n"
   ]
  },
  {
   "cell_type": "code",
   "execution_count": 134,
   "metadata": {
    "collapsed": false
   },
   "outputs": [],
   "source": [
    "new=pd.merge(df1,alcban, how='left')\n",
    "new['ban']=new[new.columns[5]]\n",
    "new=new[new.ban=='No']\n",
    "\n"
   ]
  },
  {
   "cell_type": "code",
   "execution_count": 35,
   "metadata": {
    "collapsed": false
   },
   "outputs": [],
   "source": [
    "dfy=new[new.Aware=='Yes']\n",
    "dfya=dfy['All']\n",
    "dfn=new[new.Aware=='No']\n",
    "dfna=dfn['All']\n"
   ]
  },
  {
   "cell_type": "code",
   "execution_count": 36,
   "metadata": {
    "collapsed": false
   },
   "outputs": [
    {
     "data": {
      "text/plain": [
       "(1.9602574791163967, 0.056463986983569969)"
      ]
     },
     "execution_count": 36,
     "metadata": {},
     "output_type": "execute_result"
    }
   ],
   "source": [
    "stats.ttest_ind(dfya,dfna, equal_var = False)"
   ]
  },
  {
   "cell_type": "code",
   "execution_count": 37,
   "metadata": {
    "collapsed": true
   },
   "outputs": [],
   "source": [
    "dfym=np.mean(dfy[\"All\"])\n",
    "s1=np.std(dfy[\"All\"])\n",
    "dfnm=np.mean(dfn[\"All\"])\n",
    "s2=np.std(dfn[\"All\"])\n",
    "se = np.sqrt(((s1**2)/(len(dfy))) + ((s2**2)/(len(dfn))) "
   ]
  },
  {
   "cell_type": "code",
   "execution_count": 40,
   "metadata": {
    "collapsed": false
   },
   "outputs": [
    {
     "name": "stdout",
     "output_type": "stream",
     "text": [
      "0.126188481635 16.5225128171\n"
     ]
    }
   ],
   "source": [
    "cir=((dfym-dfnm)+((1.96)*se))\n",
    "cil=((dfym-dfnm)-((1.96)*se))\n",
    "print cil, cir"
   ]
  },
  {
   "cell_type": "markdown",
   "metadata": {
    "collapsed": true
   },
   "source": [
    "There is no significant difference between alcohol attributable road accident deaths(%) on an average among countries (without ban on alcohol) with awareness on drunk driving & those without."
   ]
  },
  {
   "cell_type": "markdown",
   "metadata": {},
   "source": [
    "Hypothesis testing to check for difference in proportion in drunk drive awareness among countries where road accident percentage if high"
   ]
  },
  {
   "cell_type": "code",
   "execution_count": 42,
   "metadata": {
    "collapsed": false
   },
   "outputs": [
    {
     "name": "stdout",
     "output_type": "stream",
     "text": [
      "0.733333333333 0.875\n"
     ]
    }
   ],
   "source": [
    "less=df1[df1.All<=20]\n",
    "more=df1[df1.All>20]\n",
    "n1=float(len(less[less.Aware=='Yes']))\n",
    "n2=float(len(more[more.Aware=='Yes']))\n",
    "p1=(n1/len(less))\n",
    "p2=n2/len(more)\n",
    "print p1,p2"
   ]
  },
  {
   "cell_type": "code",
   "execution_count": 43,
   "metadata": {
    "collapsed": false
   },
   "outputs": [
    {
     "data": {
      "text/plain": [
       "0.7922077922077922"
      ]
     },
     "execution_count": 43,
     "metadata": {},
     "output_type": "execute_result"
    }
   ],
   "source": [
    "p = (((p1 * len(less)) + (p2 * len(more))) / (len(less) + len(more)))\n",
    "p"
   ]
  },
  {
   "cell_type": "code",
   "execution_count": 44,
   "metadata": {
    "collapsed": false
   },
   "outputs": [
    {
     "data": {
      "text/plain": [
       "0.032694433992817483"
      ]
     },
     "execution_count": 44,
     "metadata": {},
     "output_type": "execute_result"
    }
   ],
   "source": [
    "se=np.sqrt((p*(1-p))/(len(less) + len(more)))\n",
    "se"
   ]
  },
  {
   "cell_type": "code",
   "execution_count": 45,
   "metadata": {
    "collapsed": true
   },
   "outputs": [],
   "source": [
    "me=1.96*se"
   ]
  },
  {
   "cell_type": "code",
   "execution_count": 54,
   "metadata": {
    "collapsed": false
   },
   "outputs": [
    {
     "name": "stdout",
     "output_type": "stream",
     "text": [
      "-4.33305151261\n",
      "-4.39713260324 -4.26897042199\n"
     ]
    }
   ],
   "source": [
    "ptest=(p1-p2)/se\n",
    "cil=ptest-me\n",
    "cir=ptest+me\n",
    "print ptest\n",
    "print cil , cir\n"
   ]
  },
  {
   "cell_type": "code",
   "execution_count": 55,
   "metadata": {
    "collapsed": false
   },
   "outputs": [
    {
     "data": {
      "text/plain": [
       "1.4705668364160546e-05"
      ]
     },
     "execution_count": 55,
     "metadata": {},
     "output_type": "execute_result"
    }
   ],
   "source": [
    "from scipy.stats.distributions import norm\n",
    "pvalue = 2*norm.cdf(-np.abs(ptest))\n",
    "pvalue"
   ]
  },
  {
   "cell_type": "markdown",
   "metadata": {},
   "source": [
    "There is significant diff in proportions of countries having and not having drunk drive awareness among countries where avg % of road accidents are than less than 20% compared to countries with more than 20% of avg road accidents. With 95% confidence we can say proportion of countries with drunk drive awareness is 4.26% -4.39% higherin countries with more than 20% of avg alcohol related road accidents compared to countries with less than 20% of avg alcohol related road accidents"
   ]
  },
  {
   "cell_type": "code",
   "execution_count": 87,
   "metadata": {
    "collapsed": false
   },
   "outputs": [],
   "source": [
    "alcintk = pd.DataFrame.from_csv('alcintk.csv', index_col=None)"
   ]
  },
  {
   "cell_type": "code",
   "execution_count": 88,
   "metadata": {
    "collapsed": false
   },
   "outputs": [
    {
     "data": {
      "text/plain": [
       "193"
      ]
     },
     "execution_count": 88,
     "metadata": {},
     "output_type": "execute_result"
    }
   ],
   "source": [
    "len(alcintk)"
   ]
  },
  {
   "cell_type": "code",
   "execution_count": 160,
   "metadata": {
    "collapsed": false
   },
   "outputs": [],
   "source": [
    "f=alcintk[alcintk.Female.notnull()]\n",
    "f=f['Female'].str.split().str[0]\n",
    "m=alcintk[alcintk.Female.notnull()]\n",
    "m=m['Male'].str.split().str[0]\n",
    "alcintk['f']=f\n",
    "alcintk['m']=m\n",
    "alcintk['f']=alcintk.f.astype(float)\n",
    "alcintk.m=alcintk.m.astype(float)\n"
   ]
  },
  {
   "cell_type": "code",
   "execution_count": 171,
   "metadata": {
    "collapsed": false
   },
   "outputs": [
    {
     "data": {
      "text/plain": [
       "(-15.030943937350068, 1.1693401410208349e-38)"
      ]
     },
     "execution_count": 171,
     "metadata": {},
     "output_type": "execute_result"
    }
   ],
   "source": [
    "alcintk=alcintk[(alcintk.f.notnull())&(alcintk.m.notnull())]\n",
    "f=alcintk['f']\n",
    "m=alcintk['m']\n",
    "stats.ttest_ind(f,m, equal_var = False)\n"
   ]
  },
  {
   "cell_type": "code",
   "execution_count": 120,
   "metadata": {
    "collapsed": false
   },
   "outputs": [],
   "source": [
    "fm=np.mean(f)\n",
    "s1=np.std(f)\n",
    "mm=np.mean(m)\n",
    "s2=np.std(m)\n",
    "se = np.sqrt(((s1**2)/(len(f))) + ((s2**2)/(len(m))) )"
   ]
  },
  {
   "cell_type": "code",
   "execution_count": 121,
   "metadata": {
    "collapsed": false
   },
   "outputs": [
    {
     "name": "stdout",
     "output_type": "stream",
     "text": [
      "-25.5254286798 -19.6502326958\n"
     ]
    }
   ],
   "source": [
    "cir=((fm-mm)+((1.96)*se))\n",
    "cil=((fm-mm)-((1.96)*se))\n",
    "print cil, cir"
   ]
  },
  {
   "cell_type": "markdown",
   "metadata": {},
   "source": [
    "There is significant difference between average daily alcohol consumption between males and females.\n",
    "Average daily alcohol consumption among females is 19.65gms-25.5gms less than that of males. "
   ]
  },
  {
   "cell_type": "markdown",
   "metadata": {},
   "source": [
    "checking relation between avg daily consumption and alcohol related road accidents"
   ]
  },
  {
   "cell_type": "markdown",
   "metadata": {},
   "source": [
    "in females"
   ]
  },
  {
   "cell_type": "code",
   "execution_count": 136,
   "metadata": {
    "collapsed": false
   },
   "outputs": [
    {
     "data": {
      "text/plain": [
       "17.8037037037037"
      ]
     },
     "execution_count": 136,
     "metadata": {},
     "output_type": "execute_result"
    }
   ],
   "source": [
    "np.mean(f)"
   ]
  },
  {
   "cell_type": "code",
   "execution_count": 148,
   "metadata": {
    "collapsed": false
   },
   "outputs": [],
   "source": [
    "less=alcintk[alcintk.f<=18]\n",
    "more=alcintk[alcintk.f>18]"
   ]
  },
  {
   "cell_type": "code",
   "execution_count": 149,
   "metadata": {
    "collapsed": false
   },
   "outputs": [],
   "source": [
    "less=less[['Country']]\n",
    "more=more[['Country']]"
   ]
  },
  {
   "cell_type": "code",
   "execution_count": 155,
   "metadata": {
    "collapsed": false
   },
   "outputs": [],
   "source": [
    "lessacc=pd.merge(less,drunkdrive,on='Country')\n",
    "moreacc=pd.merge(more,drunkdrive,on='Country')\n",
    "lessaccf=lessacc[lessacc.Female.notnull()]\n",
    "moreaccf=moreacc[moreacc.Female.notnull()]"
   ]
  },
  {
   "cell_type": "code",
   "execution_count": 157,
   "metadata": {
    "collapsed": false
   },
   "outputs": [
    {
     "data": {
      "text/plain": [
       "(-4.4292892329092179, 2.430808885790147e-05)"
      ]
     },
     "execution_count": 157,
     "metadata": {},
     "output_type": "execute_result"
    }
   ],
   "source": [
    "stats.ttest_ind(lessaccf.Female,moreaccf.Female, equal_var = False)"
   ]
  },
  {
   "cell_type": "code",
   "execution_count": 166,
   "metadata": {
    "collapsed": true
   },
   "outputs": [],
   "source": [
    "lessaccfm=np.mean(lessaccf[\"Female\"])\n",
    "s1=np.std(lessaccf[\"Female\"])\n",
    "moreaccfm=np.mean(moreaccf[\"Female\"])\n",
    "s2=np.std(moreaccf[\"Female\"])\n",
    "se = np.sqrt(((s1**2)/(len(lessaccf))) + ((s2**2)/(len(moreaccf))) )"
   ]
  },
  {
   "cell_type": "code",
   "execution_count": 167,
   "metadata": {
    "collapsed": false
   },
   "outputs": [
    {
     "name": "stdout",
     "output_type": "stream",
     "text": [
      "-8.28325713248 -3.2214847306\n"
     ]
    }
   ],
   "source": [
    "cir=((lessaccfm-moreaccfm)+((1.96)*se))\n",
    "cil=((lessaccfm-moreaccfm)-((1.96)*se))\n",
    "print cil, cir"
   ]
  },
  {
   "cell_type": "markdown",
   "metadata": {},
   "source": [
    "**There is significant difference in alcohol related road accidents my females who on an average consume less then 18gms of alcohol daily than those who consume more than 18gms.\n",
    "Females who consume on an average more than 18gms of alcohol daily have 3.2% to 8.2% more chances of alcohol related road accidents**"
   ]
  },
  {
   "cell_type": "markdown",
   "metadata": {},
   "source": [
    "in males"
   ]
  },
  {
   "cell_type": "code",
   "execution_count": 172,
   "metadata": {
    "collapsed": false
   },
   "outputs": [
    {
     "data": {
      "text/plain": [
       "40.391534391534385"
      ]
     },
     "execution_count": 172,
     "metadata": {},
     "output_type": "execute_result"
    }
   ],
   "source": [
    "np.mean(m)"
   ]
  },
  {
   "cell_type": "code",
   "execution_count": 173,
   "metadata": {
    "collapsed": true
   },
   "outputs": [],
   "source": [
    "less=alcintk[alcintk.f<=40]\n",
    "more=alcintk[alcintk.f>40]\n",
    "less=less[['Country']]\n",
    "more=more[['Country']]"
   ]
  },
  {
   "cell_type": "code",
   "execution_count": 174,
   "metadata": {
    "collapsed": true
   },
   "outputs": [],
   "source": [
    "lessacc=pd.merge(less,drunkdrive,on='Country')\n",
    "moreacc=pd.merge(more,drunkdrive,on='Country')\n",
    "lessaccm=lessacc[lessacc.Male.notnull()]\n",
    "moreaccm=moreacc[moreacc.Male.notnull()]"
   ]
  },
  {
   "cell_type": "code",
   "execution_count": 175,
   "metadata": {
    "collapsed": false
   },
   "outputs": [
    {
     "data": {
      "text/plain": [
       "(0.6840659250617076, 0.51612240594865411)"
      ]
     },
     "execution_count": 175,
     "metadata": {},
     "output_type": "execute_result"
    }
   ],
   "source": [
    "stats.ttest_ind(lessaccm.Male,moreaccm.Male, equal_var = False)"
   ]
  },
  {
   "cell_type": "code",
   "execution_count": 176,
   "metadata": {
    "collapsed": false
   },
   "outputs": [],
   "source": [
    "lessaccmm=np.mean(lessaccm[\"Male\"])\n",
    "s1=np.std(lessaccm[\"Male\"])\n",
    "moreaccmm=np.mean(moreaccm[\"Male\"])\n",
    "s2=np.std(moreaccm[\"Male\"])\n",
    "se = np.sqrt(((s1**2)/(len(lessaccm))) + ((s2**2)/(len(moreaccm))) )"
   ]
  },
  {
   "cell_type": "code",
   "execution_count": 177,
   "metadata": {
    "collapsed": false
   },
   "outputs": [
    {
     "name": "stdout",
     "output_type": "stream",
     "text": [
      "-3.3045811689 7.30171818321\n"
     ]
    }
   ],
   "source": [
    "cir=((lessaccmm-moreaccmm)+((1.96)*se))\n",
    "cil=((lessaccmm-moreaccmm)-((1.96)*se))\n",
    "print cil, cir"
   ]
  },
  {
   "cell_type": "markdown",
   "metadata": {},
   "source": [
    "**There is no significant difference in alcohol related road accidents my males who on an average consume less then 40gms of alcohol daily than those who consume more than 40gms.**"
   ]
  },
  {
   "cell_type": "code",
   "execution_count": null,
   "metadata": {
    "collapsed": true
   },
   "outputs": [],
   "source": []
  },
  {
   "cell_type": "code",
   "execution_count": null,
   "metadata": {
    "collapsed": true
   },
   "outputs": [],
   "source": []
  },
  {
   "cell_type": "markdown",
   "metadata": {},
   "source": [
    "# Findings"
   ]
  },
  {
   "cell_type": "markdown",
   "metadata": {},
   "source": [
    "There is a significant difference between alcohol attributable road accident deaths(%) on an average of males and females"
   ]
  },
  {
   "cell_type": "markdown",
   "metadata": {},
   "source": [
    "There is a significant difference between alcohol attributable road accident deaths(%) on an average among countries with awareness on drunk driving & those without.\n",
    "It turns out road accidents are 2.4%-17% more where countries have awareness on drunken driving.(with 95% confidence)"
   ]
  },
  {
   "cell_type": "markdown",
   "metadata": {},
   "source": [
    "There is no significant difference between alcohol attributable road accident deaths(%) among females on an average among countries with awareness on drunk driving & those without."
   ]
  },
  {
   "cell_type": "markdown",
   "metadata": {},
   "source": [
    "There is significant difference between alcohol attributable road accident deaths(%) in males on an average among countries with awareness on drunk driving & those without.It turns out road accidents are 3.4%-13% more where countries have awareness on drunken driving.(with 95% Confidence)"
   ]
  },
  {
   "cell_type": "markdown",
   "metadata": {},
   "source": [
    "There is significant diff in proportions of countries having and not having drunk drive awareness among countries where avg % of road accidents are than less than 20% compared to countries with more than 20% of avg road accidents. With 95% confidence we can say proportion of countries with drunk drive awareness is 4.26% -4.39% higher in countries with more than 20% of avg alcohol related road accidents compared to countries with less than 20% of avg alcohol related road accidents"
   ]
  },
  {
   "cell_type": "code",
   "execution_count": null,
   "metadata": {
    "collapsed": true
   },
   "outputs": [],
   "source": []
  },
  {
   "cell_type": "code",
   "execution_count": null,
   "metadata": {
    "collapsed": true
   },
   "outputs": [],
   "source": []
  },
  {
   "cell_type": "markdown",
   "metadata": {},
   "source": [
    "There is significant difference in alcohol related road accidents my females who on an average consume less then 18gms of alcohol daily than those who consume more than 18gms.With 95% confidence we can say Females who consume on an average more than 18gms of alcohol daily have 3.2% to 8.2% more chances of alcohol related road accidents..(18gms is the mean daily consumption among females)"
   ]
  },
  {
   "cell_type": "markdown",
   "metadata": {},
   "source": [
    "There is no significant difference in alcohol related road accidents my males who on an average consume less then 40gms of alcohol daily than those who consume more than 40gms...(40gms is the mean daily consumption among males)"
   ]
  },
  {
   "cell_type": "markdown",
   "metadata": {},
   "source": [
    "There is significant difference between average daily alcohol consumption between males and females.With 95% confidence we can say that average daily alcohol consumption among females is 19.65gms-25.5gms less than that of males. "
   ]
  },
  {
   "cell_type": "code",
   "execution_count": null,
   "metadata": {
    "collapsed": true
   },
   "outputs": [],
   "source": []
  },
  {
   "cell_type": "code",
   "execution_count": null,
   "metadata": {
    "collapsed": true
   },
   "outputs": [],
   "source": []
  }
 ],
 "metadata": {
  "kernelspec": {
   "display_name": "Python 2",
   "language": "python",
   "name": "python2"
  },
  "language_info": {
   "codemirror_mode": {
    "name": "ipython",
    "version": 2
   },
   "file_extension": ".py",
   "mimetype": "text/x-python",
   "name": "python",
   "nbconvert_exporter": "python",
   "pygments_lexer": "ipython2",
   "version": "2.7.10"
  }
 },
 "nbformat": 4,
 "nbformat_minor": 0
}
